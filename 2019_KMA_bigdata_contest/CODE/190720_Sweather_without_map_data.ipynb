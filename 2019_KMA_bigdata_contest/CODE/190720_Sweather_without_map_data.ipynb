{
  "nbformat": 4,
  "nbformat_minor": 0,
  "metadata": {
    "colab": {
      "name": "190720 Sweather without map data",
      "version": "0.3.2",
      "provenance": [],
      "collapsed_sections": [],
      "include_colab_link": true
    },
    "kernelspec": {
      "name": "python3",
      "display_name": "Python 3"
    },
    "accelerator": "GPU"
  },
  "cells": [
    {
      "cell_type": "markdown",
      "metadata": {
        "id": "view-in-github",
        "colab_type": "text"
      },
      "source": [
        "<a href=\"https://colab.research.google.com/github/kjunhun9/weather/blob/master/190720_Sweather_without_map_data.ipynb\" target=\"_parent\"><img src=\"https://colab.research.google.com/assets/colab-badge.svg\" alt=\"Open In Colab\"/></a>"
      ]
    },
    {
      "cell_type": "code",
      "metadata": {
        "id": "u-w0h8M2CZMc",
        "colab_type": "code",
        "outputId": "6833f84c-20f9-45b0-8f8b-2eb204b9e850",
        "colab": {
          "base_uri": "https://localhost:8080/",
          "height": 36
        }
      },
      "source": [
        "import os\n",
        "os.listdir()"
      ],
      "execution_count": 0,
      "outputs": [
        {
          "output_type": "execute_result",
          "data": {
            "text/plain": [
              "['.config', 'sample_data']"
            ]
          },
          "metadata": {
            "tags": []
          },
          "execution_count": 1
        }
      ]
    },
    {
      "cell_type": "markdown",
      "metadata": {
        "id": "G3oivsmRcgBL",
        "colab_type": "text"
      },
      "source": [
        "##1. 데이터, 환경 구축"
      ]
    },
    {
      "cell_type": "markdown",
      "metadata": {
        "id": "OYT4ZxStcXNr",
        "colab_type": "text"
      },
      "source": [
        "###1-1. 데이터 업로드"
      ]
    },
    {
      "cell_type": "code",
      "metadata": {
        "id": "SWxNqUljj-EY",
        "colab_type": "code",
        "outputId": "c227b8d1-a562-4727-cd85-a5a049542588",
        "colab": {
          "resources": {
            "http://localhost:8080/nbextensions/google.colab/files.js": {
              "data": "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",
              "ok": true,
              "headers": [
                [
                  "content-type",
                  "application/javascript"
                ]
              ],
              "status": 200,
              "status_text": ""
            }
          },
          "base_uri": "https://localhost:8080/",
          "height": 105
        }
      },
      "source": [
        "from google.colab import files\n",
        "uploaded = files.upload()\n",
        "uploaded = files.upload()"
      ],
      "execution_count": 0,
      "outputs": [
        {
          "output_type": "display_data",
          "data": {
            "text/html": [
              "\n",
              "     <input type=\"file\" id=\"files-7e3e887f-836d-4c23-8cef-a3f8c2142be2\" name=\"files[]\" multiple disabled />\n",
              "     <output id=\"result-7e3e887f-836d-4c23-8cef-a3f8c2142be2\">\n",
              "      Upload widget is only available when the cell has been executed in the\n",
              "      current browser session. Please rerun this cell to enable.\n",
              "      </output>\n",
              "      <script src=\"/nbextensions/google.colab/files.js\"></script> "
            ],
            "text/plain": [
              "<IPython.core.display.HTML object>"
            ]
          },
          "metadata": {
            "tags": []
          }
        },
        {
          "output_type": "stream",
          "text": [
            "Saving data.xlsx to data.xlsx\n"
          ],
          "name": "stdout"
        },
        {
          "output_type": "display_data",
          "data": {
            "text/html": [
              "\n",
              "     <input type=\"file\" id=\"files-b6c30bcb-f711-45bc-b91f-1f751c85614b\" name=\"files[]\" multiple disabled />\n",
              "     <output id=\"result-b6c30bcb-f711-45bc-b91f-1f751c85614b\">\n",
              "      Upload widget is only available when the cell has been executed in the\n",
              "      current browser session. Please rerun this cell to enable.\n",
              "      </output>\n",
              "      <script src=\"/nbextensions/google.colab/files.js\"></script> "
            ],
            "text/plain": [
              "<IPython.core.display.HTML object>"
            ]
          },
          "metadata": {
            "tags": []
          }
        }
      ]
    },
    {
      "cell_type": "markdown",
      "metadata": {
        "id": "r6wZJpvZcaN8",
        "colab_type": "text"
      },
      "source": [
        "###1-2. 데이터 압축 풀기\n"
      ]
    },
    {
      "cell_type": "code",
      "metadata": {
        "id": "qwSVFz7bkwpl",
        "colab_type": "code",
        "outputId": "257beddc-4f51-4062-c5c3-3a45e517f2ec",
        "colab": {
          "base_uri": "https://localhost:8080/",
          "height": 260
        }
      },
      "source": [
        "!unzip data.xlsx\n",
        "#!unzip data_labelless.xlsx"
      ],
      "execution_count": 0,
      "outputs": [
        {
          "output_type": "stream",
          "text": [
            "Archive:  data.xlsx\n",
            "  inflating: [Content_Types].xml     \n",
            "  inflating: _rels/.rels             \n",
            "  inflating: xl/workbook.xml         \n",
            "  inflating: xl/_rels/workbook.xml.rels  \n",
            "  inflating: xl/worksheets/sheet1.xml  \n",
            "  inflating: xl/theme/theme1.xml     \n",
            "  inflating: xl/styles.xml           \n",
            "  inflating: xl/sharedStrings.xml    \n",
            "  inflating: xl/worksheets/_rels/sheet1.xml.rels  \n",
            "  inflating: xl/printerSettings/printerSettings1.bin  \n",
            "  inflating: docProps/core.xml       \n",
            "  inflating: docProps/app.xml        \n"
          ],
          "name": "stdout"
        }
      ]
    },
    {
      "cell_type": "markdown",
      "metadata": {
        "id": "NZTdhT3uceSG",
        "colab_type": "text"
      },
      "source": [
        "###1-3. 라이브러리 선언"
      ]
    },
    {
      "cell_type": "code",
      "metadata": {
        "id": "4AyZILQaBWL6",
        "colab_type": "code",
        "colab": {}
      },
      "source": [
        "import numpy as np\n",
        "import tensorflow as tf\n",
        "import xlrd as xr\n",
        "import xlwt as xw\n",
        "import math\n",
        "\n",
        "np.set_printoptions(suppress = True)"
      ],
      "execution_count": 0,
      "outputs": []
    },
    {
      "cell_type": "markdown",
      "metadata": {
        "id": "WZcJ7Fjxc3p_",
        "colab_type": "text"
      },
      "source": [
        "##2. 데이터 전처리 (1)"
      ]
    },
    {
      "cell_type": "markdown",
      "metadata": {
        "id": "q4NmS_jWdB7M",
        "colab_type": "text"
      },
      "source": [
        "###2-1. 데이터 읽기, 할당\n",
        " - data.xlsx는 file에 저장함\n",
        " - data_labelless.xlsx는 file_prediction의 준말인 file_p에 저장함"
      ]
    },
    {
      "cell_type": "code",
      "metadata": {
        "id": "5bxzqQjjCmMY",
        "colab_type": "code",
        "colab": {}
      },
      "source": [
        "file = xr.open_workbook('data.xlsx')\n",
        "file = file.sheet_by_index(0)\n",
        "\n",
        "row = file.row\n",
        "col = file.col\n",
        "size_row = np.size(col(0))\n",
        "size_col = np.size(row(0))\n",
        "\n",
        "data = np.empty([size_row, size_col])\n",
        "for i in range(1,size_row):\n",
        "  for j in range(size_col):\n",
        "    data[i][j] = row(i)[j].value"
      ],
      "execution_count": 0,
      "outputs": []
    },
    {
      "cell_type": "code",
      "metadata": {
        "id": "DvEPhGp_SjYV",
        "colab_type": "code",
        "colab": {}
      },
      "source": [
        "file_p = xr.open_workbook('data_labelless.xlsx')\n",
        "file_p = file_p.sheet_by_index(0)\n",
        "\n",
        "row_p = file_p.row\n",
        "col_p = file_p.col\n",
        "size_row_p = np.size(col_p(0))\n",
        "size_col_p = np.size(row_p(0))\n",
        "\n",
        "data_p = np.empty([size_row_p, size_col_p])\n",
        "for i in range(1,size_row_p):\n",
        "  for j in range(size_col_p):\n",
        "    data_p[i][j] = row_p(i)[j].value"
      ],
      "execution_count": 0,
      "outputs": []
    },
    {
      "cell_type": "markdown",
      "metadata": {
        "id": "57H91c9FdIpu",
        "colab_type": "text"
      },
      "source": [
        "###2-2. floating_bit 설정\n",
        " - floating_bit : 2진수 변환 전체 비트 수\n",
        " - integer_bit : 정수에 할당할 비트 수"
      ]
    },
    {
      "cell_type": "code",
      "metadata": {
        "id": "tx2IdwAnMcN0",
        "colab_type": "code",
        "colab": {}
      },
      "source": [
        "floating_bit = 16\n",
        "integer_bit = 5"
      ],
      "execution_count": 0,
      "outputs": []
    },
    {
      "cell_type": "markdown",
      "metadata": {
        "id": "xzAlEhTYduNa",
        "colab_type": "text"
      },
      "source": [
        "###2-3. ftob, btof 함수 선언\n",
        " - ftob : float to binary\n",
        " - btof : binary to float"
      ]
    },
    {
      "cell_type": "code",
      "metadata": {
        "id": "OQPzxtbZdtvv",
        "colab_type": "code",
        "colab": {}
      },
      "source": [
        "def ftob(val_f):\n",
        "  list = []\n",
        "  for i in np.arange(integer_bit-1, integer_bit-floating_bit-1, -1):\n",
        "    if val_f >= math.pow(2,i):\n",
        "      list.append(1)\n",
        "      val_f -= math.pow(2,i)\n",
        "    else:\n",
        "      list.append(0)\n",
        "  return list\n",
        "\n",
        "def btof(list):\n",
        "  value = 0\n",
        "  for i in range(floating_bit):\n",
        "    value += list[i]*math.pow(2,integer_bit-i-1)\n",
        "  return value"
      ],
      "execution_count": 0,
      "outputs": []
    },
    {
      "cell_type": "code",
      "metadata": {
        "id": "X15MVGCvrYJb",
        "colab_type": "code",
        "outputId": "d8758e3a-108e-49c8-ef32-8be802395306",
        "colab": {
          "base_uri": "https://localhost:8080/",
          "height": 36
        }
      },
      "source": [
        "print(ftob(5.2))"
      ],
      "execution_count": 0,
      "outputs": [
        {
          "output_type": "stream",
          "text": [
            "[0, 0, 1, 0, 1, 0, 0, 1, 1, 0, 0, 1, 1, 0, 0, 1]\n"
          ],
          "name": "stdout"
        }
      ]
    },
    {
      "cell_type": "code",
      "metadata": {
        "id": "WJ8hW7LFnv9p",
        "colab_type": "code",
        "outputId": "5c071ddb-8cad-4599-a6ba-107b2f6b1520",
        "colab": {
          "base_uri": "https://localhost:8080/",
          "height": 36
        }
      },
      "source": [
        "print(btof(ftob(5.2)))"
      ],
      "execution_count": 0,
      "outputs": [
        {
          "output_type": "stream",
          "text": [
            "5.19970703125\n"
          ],
          "name": "stdout"
        }
      ]
    },
    {
      "cell_type": "markdown",
      "metadata": {
        "id": "-4uIXsbDd4i6",
        "colab_type": "text"
      },
      "source": [
        "##3. 데이터 전처리 (2)"
      ]
    },
    {
      "cell_type": "markdown",
      "metadata": {
        "id": "YJrps76md8y_",
        "colab_type": "text"
      },
      "source": [
        "###3-1. nan, 0 데이터 제거"
      ]
    },
    {
      "cell_type": "code",
      "metadata": {
        "id": "QikVsmNplrRx",
        "colab_type": "code",
        "colab": {}
      },
      "source": [
        "epsilon = 1e-4\n",
        "\n",
        "data = np.nan_to_num(data)\n",
        "data += (data==0) * epsilon\n",
        "\n",
        "#data_p = np.nan_to_num(data_p)\n",
        "#data_p += (data_p==0) * epsilon"
      ],
      "execution_count": 0,
      "outputs": []
    },
    {
      "cell_type": "markdown",
      "metadata": {
        "id": "NA0n64ipeDHZ",
        "colab_type": "text"
      },
      "source": [
        "###3-2. input 정규화, upscaling, 비트화"
      ]
    },
    {
      "cell_type": "code",
      "metadata": {
        "id": "mWrzs5w0eA9s",
        "colab_type": "code",
        "colab": {}
      },
      "source": [
        "tempdata = data[1:size_row, 1:size_col]\n",
        "data_norm = np.float32(data)\n",
        "data_norm[1:, 1:] = tempdata\n",
        "\n",
        "# normalization\n",
        "x_data = data_norm[1:size_row, 1:size_col-3]\n",
        "x_mean = np.mean(x_data, axis=0, keepdims=True)\n",
        "x_std = np.std(x_data, axis=0, keepdims=True)\n",
        "\n",
        "# upscaling\n",
        "x_data = (x_data-x_mean)/x_std *10 +15\n",
        "tempdata = x_data\n",
        "\n",
        "# binarization\n",
        "x_data = np.empty([x_data.shape[0], x_data.shape[1]*floating_bit])\n",
        "for i in range(tempdata.shape[0]):\n",
        "  list = []\n",
        "  for j in range(tempdata.shape[1]):\n",
        "    list.append(ftob(tempdata[i][j]))\n",
        "  x_data[i] = np.concatenate(list)"
      ],
      "execution_count": 0,
      "outputs": []
    },
    {
      "cell_type": "code",
      "metadata": {
        "id": "zHNQ_w7STjWP",
        "colab_type": "code",
        "colab": {}
      },
      "source": [
        "tempdata = data_p[1:size_row_p, 1:size_col_p]\n",
        "data_norm_p = np.float32(data_p)\n",
        "data_norm_p[1:, 1:] = tempdata\n",
        "\n",
        "# normalization & upscaling\n",
        "x_data_p = data_norm_p[1:size_row_p, 1:size_col_p-1]\n",
        "x_data_p = (x_data_p-x_mean)/x_std*10+15\n",
        "tempdata = x_data_p\n",
        "\n",
        "# binarization\n",
        "x_data_p = np.empty([x_data_p.shape[0], x_data_p.shape[1]*floating_bit])\n",
        "for i in range(tempdata.shape[0]):\n",
        "  list = []\n",
        "  for j in range(tempdata.shape[1]):\n",
        "    list.append(ftob(tempdata[i][j]))\n",
        "  x_data_p[i] = np.concatenate(list)"
      ],
      "execution_count": 0,
      "outputs": []
    },
    {
      "cell_type": "markdown",
      "metadata": {
        "id": "oEAzZFMksekX",
        "colab_type": "text"
      },
      "source": [
        "###3-3. output, weight 분리"
      ]
    },
    {
      "cell_type": "code",
      "metadata": {
        "id": "P-UU8NTZscYq",
        "colab_type": "code",
        "colab": {}
      },
      "source": [
        "y_data = data_norm[1:size_row, size_col-2:size_col]\n",
        "weight_data = data_norm[1:size_row, size_col-3]\n",
        "\n",
        "#weight_data_p = data_norm_p[1:size_row_p, size_col_p-1]"
      ],
      "execution_count": 0,
      "outputs": []
    },
    {
      "cell_type": "markdown",
      "metadata": {
        "id": "BOj-iYcYeyas",
        "colab_type": "text"
      },
      "source": [
        "##4. 모델 구축"
      ]
    },
    {
      "cell_type": "markdown",
      "metadata": {
        "id": "6_9KtUlvfA_P",
        "colab_type": "text"
      },
      "source": [
        " - X, Y : input, output을 받을 placeholder\n",
        " - layers : layer size를 initialize 해주는 list"
      ]
    },
    {
      "cell_type": "code",
      "metadata": {
        "id": "B3UMK7m1ZVXD",
        "colab_type": "code",
        "colab": {}
      },
      "source": [
        "X = tf.placeholder(np.float32, [None, x_data.shape[1]])\n",
        "Y = tf.placeholder(np.float32, [None, y_data.shape[1]])\n",
        "\n",
        "layers = [int(X.shape[1]), 64, 32, int(Y.shape[1])]\n",
        "n = len(layers)\n",
        "W = {}\n",
        "L = X\n",
        "\n",
        "for i in range(n-2):\n",
        "    W[str(i+1)] = tf.Variable(tf.random_normal([layers[i],layers[i+1]]))\n",
        "    L = tf.nn.leaky_relu(tf.matmul(L,W[str(i+1)]), 0.3)\n",
        "    #L = tf.layers.dropout(L, 0.9)\n",
        "    \n",
        "W[str(n-1)] = tf.Variable(tf.random_normal([layers[n-2],layers[n-1]]))\n",
        "L = tf.matmul(L,W[str(n-1)])\n",
        "\n",
        "cost = tf.reduce_mean(tf.square(L-Y))\n",
        "optimizer = tf.train.AdamOptimizer(0.01).minimize(cost)\n",
        "is_correct = tf.less(tf.round(L-Y)*10, 1)\n",
        "accuracy = tf.reduce_mean(tf.cast(is_correct, np.float32))\n",
        "\n",
        "sess = tf.Session()\n",
        "sess.run(tf.global_variables_initializer())"
      ],
      "execution_count": 0,
      "outputs": []
    },
    {
      "cell_type": "markdown",
      "metadata": {
        "id": "E35GFUcwfVyI",
        "colab_type": "text"
      },
      "source": [
        "##5. 모델 학습"
      ]
    },
    {
      "cell_type": "markdown",
      "metadata": {
        "id": "i0bQAvjizTzb",
        "colab_type": "text"
      },
      "source": [
        "- valid_rate : 학습에 사용할 데이터의 비율\n",
        "- 1-valid_rate 만큼의 데이터를 validation에 이용하였음\n",
        "- cost_stop : 반복 학습을 멈출 cost"
      ]
    },
    {
      "cell_type": "code",
      "metadata": {
        "id": "0GVwk-NtenFY",
        "colab_type": "code",
        "outputId": "49a30556-b96d-4118-8f55-3b9b7792ee36",
        "colab": {
          "base_uri": "https://localhost:8080/",
          "height": 499
        }
      },
      "source": [
        "valid_rate = 0.7\n",
        "cost_stop = 0.5\n",
        "epoch = 0\n",
        "\n",
        "D = {X:x_data[0:int(size_row*valid_rate)], Y:y_data[0:int(size_row*valid_rate)]}\n",
        "while(1):\n",
        "  _, cost_val = sess.run([optimizer,cost], feed_dict = D)\n",
        "  if epoch % 1000 == 0:\n",
        "    print('%4d' % epoch, 'cost : {:.3f}'.format(cost_val))\n",
        "  if cost_val <= cost_stop:\n",
        "    print(\"cost is less than \",cost_stop)\n",
        "    break\n",
        "  epoch += 1\n",
        "\n",
        "print(\"\\noptimization finished\")"
      ],
      "execution_count": 0,
      "outputs": [
        {
          "output_type": "stream",
          "text": [
            "   0 cost : 68807.805\n",
            "1000 cost : 6.328\n",
            "2000 cost : 1.910\n",
            "3000 cost : 1.117\n",
            "4000 cost : 0.893\n"
          ],
          "name": "stdout"
        },
        {
          "output_type": "error",
          "ename": "KeyboardInterrupt",
          "evalue": "ignored",
          "traceback": [
            "\u001b[0;31m---------------------------------------------------------------------------\u001b[0m",
            "\u001b[0;31mKeyboardInterrupt\u001b[0m                         Traceback (most recent call last)",
            "\u001b[0;32m<ipython-input-15-df6c6212db8a>\u001b[0m in \u001b[0;36m<module>\u001b[0;34m()\u001b[0m\n\u001b[1;32m      5\u001b[0m \u001b[0mD\u001b[0m \u001b[0;34m=\u001b[0m \u001b[0;34m{\u001b[0m\u001b[0mX\u001b[0m\u001b[0;34m:\u001b[0m\u001b[0mx_data\u001b[0m\u001b[0;34m[\u001b[0m\u001b[0;36m0\u001b[0m\u001b[0;34m:\u001b[0m\u001b[0mint\u001b[0m\u001b[0;34m(\u001b[0m\u001b[0msize_row\u001b[0m\u001b[0;34m*\u001b[0m\u001b[0mvalid_rate\u001b[0m\u001b[0;34m)\u001b[0m\u001b[0;34m]\u001b[0m\u001b[0;34m,\u001b[0m \u001b[0mY\u001b[0m\u001b[0;34m:\u001b[0m\u001b[0my_data\u001b[0m\u001b[0;34m[\u001b[0m\u001b[0;36m0\u001b[0m\u001b[0;34m:\u001b[0m\u001b[0mint\u001b[0m\u001b[0;34m(\u001b[0m\u001b[0msize_row\u001b[0m\u001b[0;34m*\u001b[0m\u001b[0mvalid_rate\u001b[0m\u001b[0;34m)\u001b[0m\u001b[0;34m]\u001b[0m\u001b[0;34m}\u001b[0m\u001b[0;34m\u001b[0m\u001b[0;34m\u001b[0m\u001b[0m\n\u001b[1;32m      6\u001b[0m \u001b[0;32mwhile\u001b[0m\u001b[0;34m(\u001b[0m\u001b[0;36m1\u001b[0m\u001b[0;34m)\u001b[0m\u001b[0;34m:\u001b[0m\u001b[0;34m\u001b[0m\u001b[0;34m\u001b[0m\u001b[0m\n\u001b[0;32m----> 7\u001b[0;31m   \u001b[0m_\u001b[0m\u001b[0;34m,\u001b[0m \u001b[0mcost_val\u001b[0m \u001b[0;34m=\u001b[0m \u001b[0msess\u001b[0m\u001b[0;34m.\u001b[0m\u001b[0mrun\u001b[0m\u001b[0;34m(\u001b[0m\u001b[0;34m[\u001b[0m\u001b[0moptimizer\u001b[0m\u001b[0;34m,\u001b[0m\u001b[0mcost\u001b[0m\u001b[0;34m]\u001b[0m\u001b[0;34m,\u001b[0m \u001b[0mfeed_dict\u001b[0m \u001b[0;34m=\u001b[0m \u001b[0mD\u001b[0m\u001b[0;34m)\u001b[0m\u001b[0;34m\u001b[0m\u001b[0;34m\u001b[0m\u001b[0m\n\u001b[0m\u001b[1;32m      8\u001b[0m   \u001b[0;32mif\u001b[0m \u001b[0mepoch\u001b[0m \u001b[0;34m%\u001b[0m \u001b[0;36m1000\u001b[0m \u001b[0;34m==\u001b[0m \u001b[0;36m0\u001b[0m\u001b[0;34m:\u001b[0m\u001b[0;34m\u001b[0m\u001b[0;34m\u001b[0m\u001b[0m\n\u001b[1;32m      9\u001b[0m     \u001b[0mprint\u001b[0m\u001b[0;34m(\u001b[0m\u001b[0;34m'%4d'\u001b[0m \u001b[0;34m%\u001b[0m \u001b[0mepoch\u001b[0m\u001b[0;34m,\u001b[0m \u001b[0;34m'cost : {:.3f}'\u001b[0m\u001b[0;34m.\u001b[0m\u001b[0mformat\u001b[0m\u001b[0;34m(\u001b[0m\u001b[0mcost_val\u001b[0m\u001b[0;34m)\u001b[0m\u001b[0;34m)\u001b[0m\u001b[0;34m\u001b[0m\u001b[0;34m\u001b[0m\u001b[0m\n",
            "\u001b[0;32m/usr/local/lib/python3.6/dist-packages/tensorflow/python/client/session.py\u001b[0m in \u001b[0;36mrun\u001b[0;34m(self, fetches, feed_dict, options, run_metadata)\u001b[0m\n\u001b[1;32m    948\u001b[0m     \u001b[0;32mtry\u001b[0m\u001b[0;34m:\u001b[0m\u001b[0;34m\u001b[0m\u001b[0;34m\u001b[0m\u001b[0m\n\u001b[1;32m    949\u001b[0m       result = self._run(None, fetches, feed_dict, options_ptr,\n\u001b[0;32m--> 950\u001b[0;31m                          run_metadata_ptr)\n\u001b[0m\u001b[1;32m    951\u001b[0m       \u001b[0;32mif\u001b[0m \u001b[0mrun_metadata\u001b[0m\u001b[0;34m:\u001b[0m\u001b[0;34m\u001b[0m\u001b[0;34m\u001b[0m\u001b[0m\n\u001b[1;32m    952\u001b[0m         \u001b[0mproto_data\u001b[0m \u001b[0;34m=\u001b[0m \u001b[0mtf_session\u001b[0m\u001b[0;34m.\u001b[0m\u001b[0mTF_GetBuffer\u001b[0m\u001b[0;34m(\u001b[0m\u001b[0mrun_metadata_ptr\u001b[0m\u001b[0;34m)\u001b[0m\u001b[0;34m\u001b[0m\u001b[0;34m\u001b[0m\u001b[0m\n",
            "\u001b[0;32m/usr/local/lib/python3.6/dist-packages/tensorflow/python/client/session.py\u001b[0m in \u001b[0;36m_run\u001b[0;34m(self, handle, fetches, feed_dict, options, run_metadata)\u001b[0m\n\u001b[1;32m   1140\u001b[0m             \u001b[0mfeed_handles\u001b[0m\u001b[0;34m[\u001b[0m\u001b[0msubfeed_t\u001b[0m\u001b[0;34m]\u001b[0m \u001b[0;34m=\u001b[0m \u001b[0msubfeed_val\u001b[0m\u001b[0;34m\u001b[0m\u001b[0;34m\u001b[0m\u001b[0m\n\u001b[1;32m   1141\u001b[0m           \u001b[0;32melse\u001b[0m\u001b[0;34m:\u001b[0m\u001b[0;34m\u001b[0m\u001b[0;34m\u001b[0m\u001b[0m\n\u001b[0;32m-> 1142\u001b[0;31m             \u001b[0mnp_val\u001b[0m \u001b[0;34m=\u001b[0m \u001b[0mnp\u001b[0m\u001b[0;34m.\u001b[0m\u001b[0masarray\u001b[0m\u001b[0;34m(\u001b[0m\u001b[0msubfeed_val\u001b[0m\u001b[0;34m,\u001b[0m \u001b[0mdtype\u001b[0m\u001b[0;34m=\u001b[0m\u001b[0msubfeed_dtype\u001b[0m\u001b[0;34m)\u001b[0m\u001b[0;34m\u001b[0m\u001b[0;34m\u001b[0m\u001b[0m\n\u001b[0m\u001b[1;32m   1143\u001b[0m \u001b[0;34m\u001b[0m\u001b[0m\n\u001b[1;32m   1144\u001b[0m           if (not is_tensor_handle_feed and\n",
            "\u001b[0;32m/usr/local/lib/python3.6/dist-packages/numpy/core/numeric.py\u001b[0m in \u001b[0;36masarray\u001b[0;34m(a, dtype, order)\u001b[0m\n\u001b[1;32m    536\u001b[0m \u001b[0;34m\u001b[0m\u001b[0m\n\u001b[1;32m    537\u001b[0m     \"\"\"\n\u001b[0;32m--> 538\u001b[0;31m     \u001b[0;32mreturn\u001b[0m \u001b[0marray\u001b[0m\u001b[0;34m(\u001b[0m\u001b[0ma\u001b[0m\u001b[0;34m,\u001b[0m \u001b[0mdtype\u001b[0m\u001b[0;34m,\u001b[0m \u001b[0mcopy\u001b[0m\u001b[0;34m=\u001b[0m\u001b[0;32mFalse\u001b[0m\u001b[0;34m,\u001b[0m \u001b[0morder\u001b[0m\u001b[0;34m=\u001b[0m\u001b[0morder\u001b[0m\u001b[0;34m)\u001b[0m\u001b[0;34m\u001b[0m\u001b[0;34m\u001b[0m\u001b[0m\n\u001b[0m\u001b[1;32m    539\u001b[0m \u001b[0;34m\u001b[0m\u001b[0m\n\u001b[1;32m    540\u001b[0m \u001b[0;34m\u001b[0m\u001b[0m\n",
            "\u001b[0;31mKeyboardInterrupt\u001b[0m: "
          ]
        }
      ]
    },
    {
      "cell_type": "markdown",
      "metadata": {
        "id": "eMT9_0MSfYN7",
        "colab_type": "text"
      },
      "source": [
        "##6. 검증 및 예측"
      ]
    },
    {
      "cell_type": "markdown",
      "metadata": {
        "id": "Jqcvp7Rlwujf",
        "colab_type": "text"
      },
      "source": [
        "###6-1. 함수 선언"
      ]
    },
    {
      "cell_type": "code",
      "metadata": {
        "id": "Ew_uu-rzVDgW",
        "colab_type": "code",
        "colab": {}
      },
      "source": [
        "def print_accuracy_with_valid_rate(valid_rate):\n",
        "  D_valid = {X:x_data[int(size_row*valid_rate):size_row], Y:y_data[int(size_row*valid_rate):size_row]}\n",
        "  valid_set_accuracy = np.round(sess.run(accuracy*100, feed_dict = D_valid),2)\n",
        "  print(valid_rate*100, \"% validation set accuracy :\", valid_set_accuracy, \"%\")\n",
        "  \n",
        "def print_label_with_input_data(input_data):\n",
        "  D_label = {X:input_data}\n",
        "  output = np.round(sess.run(L, feed_dict = D_label),1)\n",
        "  return output"
      ],
      "execution_count": 0,
      "outputs": []
    },
    {
      "cell_type": "markdown",
      "metadata": {
        "id": "NoTMmk2uzjCk",
        "colab_type": "text"
      },
      "source": [
        "###6-2. 30%, 20%, 10%, 5%, 1%의 validation set에 대한 정확도 산출"
      ]
    },
    {
      "cell_type": "code",
      "metadata": {
        "id": "mOsA2OzDbJnx",
        "colab_type": "code",
        "outputId": "e180b7ad-5206-49e3-b305-d4484d541eed",
        "colab": {
          "base_uri": "https://localhost:8080/",
          "height": 111
        }
      },
      "source": [
        "print_accuracy_with_valid_rate(valid_rate = 0.7)\n",
        "print_accuracy_with_valid_rate(valid_rate = 0.8)\n",
        "print_accuracy_with_valid_rate(valid_rate = 0.9)\n",
        "print_accuracy_with_valid_rate(valid_rate = 0.95)\n",
        "print_accuracy_with_valid_rate(valid_rate = 0.99)"
      ],
      "execution_count": 0,
      "outputs": [
        {
          "output_type": "stream",
          "text": [
            "70.0 % validation set accuracy : 83.59 %\n",
            "80.0 % validation set accuracy : 88.95 %\n",
            "90.0 % validation set accuracy : 89.62 %\n",
            "95.0 % validation set accuracy : 88.13 %\n",
            "99.0 % validation set accuracy : 91.63 %\n"
          ],
          "name": "stdout"
        }
      ]
    },
    {
      "cell_type": "code",
      "metadata": {
        "id": "Z0GqXTbmDDq9",
        "colab_type": "code",
        "outputId": "4c5fbea2-7608-4401-dd8e-8a4c24dcfb9a",
        "colab": {
          "base_uri": "https://localhost:8080/",
          "height": 148
        }
      },
      "source": [
        "x_data"
      ],
      "execution_count": 0,
      "outputs": [
        {
          "output_type": "execute_result",
          "data": {
            "text/plain": [
              "array([[1., 0., 0., ..., 0., 1., 0.],\n",
              "       [1., 0., 0., ..., 0., 1., 0.],\n",
              "       [1., 0., 1., ..., 1., 0., 0.],\n",
              "       ...,\n",
              "       [1., 0., 1., ..., 0., 0., 1.],\n",
              "       [1., 0., 1., ..., 0., 0., 0.],\n",
              "       [1., 1., 0., ..., 0., 0., 0.]])"
            ]
          },
          "metadata": {
            "tags": []
          },
          "execution_count": 18
        }
      ]
    },
    {
      "cell_type": "code",
      "metadata": {
        "id": "WDKw57FqDAJC",
        "colab_type": "code",
        "outputId": "5e29bf1d-c603-4f12-a515-30d5a8be07b4",
        "colab": {
          "base_uri": "https://localhost:8080/",
          "height": 391
        }
      },
      "source": [
        "print(print_label_with_input_data(x_data[0:10]))\n",
        "print(y_data[0:10])"
      ],
      "execution_count": 0,
      "outputs": [
        {
          "output_type": "stream",
          "text": [
            "[[1.8 2.6]\n",
            " [0.7 1.1]\n",
            " [2.2 3.2]\n",
            " [3.2 4.6]\n",
            " [2.3 3.3]\n",
            " [2.1 3. ]\n",
            " [1.1 1.6]\n",
            " [3.2 4.6]\n",
            " [3.4 4.9]\n",
            " [2.9 4.2]]\n",
            "[[1.9 2.7]\n",
            " [0.7 1. ]\n",
            " [3.2 4.5]\n",
            " [3.8 5.4]\n",
            " [2.2 3.1]\n",
            " [3.2 4.6]\n",
            " [2.  2.9]\n",
            " [3.2 4.6]\n",
            " [3.  4.3]\n",
            " [3.1 4.5]]\n"
          ],
          "name": "stdout"
        }
      ]
    },
    {
      "cell_type": "markdown",
      "metadata": {
        "id": "9xskoDsLU9Am",
        "colab_type": "text"
      },
      "source": [
        "###6-3. Unsupervised 데이터의 증발량 예측\n",
        " - 증발량 데이터를 label 이라는 numpy 행렬에 저장함\n",
        " - output.xls 파일에 label 데이터를 저장함"
      ]
    },
    {
      "cell_type": "code",
      "metadata": {
        "id": "xNwJ_97qVRKD",
        "colab_type": "code",
        "colab": {}
      },
      "source": [
        "label = print_label_with_input_data(x_data_p)\n",
        "label *= label>0\n",
        "\n",
        "file_w = xw.Workbook()\n",
        "sheet = file_w.add_sheet('Sheet1')\n",
        "\n",
        "for i in range(label.shape[0]):\n",
        "  for j in range(label.shape[1]):\n",
        "    sheet.write(i, j, round(float(label[i][j]),1))\n",
        "\n",
        "from google.colab import files\n",
        "file_w.save('output.xls')\n",
        "files.download('output.xls')"
      ],
      "execution_count": 0,
      "outputs": []
    },
    {
      "cell_type": "markdown",
      "metadata": {
        "id": "480qpHjyoSOg",
        "colab_type": "text"
      },
      "source": [
        "###6-4. 총 증발량 산출"
      ]
    },
    {
      "cell_type": "code",
      "metadata": {
        "id": "32zbnX-YSuuF",
        "colab_type": "code",
        "colab": {}
      },
      "source": [
        "total_surface = math.pow(4000,2)\n",
        "evaporator_surface = np.array([math.pow(0.1,2),math.pow(0.6,2)]).reshape(-1,2)*math.pi\n",
        "total_source_surface = total_surface * weight_data_p.reshape(-1,1) / 100\n",
        "unit_evaporation = label\n",
        "\n",
        "total_evaporation =  np.round(unit_evaporation * total_source_surface / evaporator_surface)\n",
        "total_evaporation *= total_evaporation>0\n",
        "total_evaporation = np.mean(total_evaporation, axis = 1, keepdims = True)\n",
        "\n",
        "file_w = xw.Workbook()\n",
        "sheet = file_w.add_sheet('Sheet1')\n",
        "\n",
        "for i in range(total_evaporation.shape[0]):\n",
        "  for j in range(total_evaporation.shape[1]):\n",
        "    sheet.write(i, j, total_evaporation[i][j])\n",
        "\n",
        "from google.colab import files\n",
        "file_w.save('total.xls')\n",
        "files.download('total.xls')"
      ],
      "execution_count": 0,
      "outputs": []
    },
    {
      "cell_type": "code",
      "metadata": {
        "id": "2-PBQOjlY60Q",
        "colab_type": "code",
        "colab": {}
      },
      "source": [
        "total_evaporation /= np.max(total_evaporation)\n"
      ],
      "execution_count": 0,
      "outputs": []
    }
  ]
}